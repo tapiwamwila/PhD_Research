{
 "cells": [
  {
   "cell_type": "code",
   "execution_count": 8,
   "id": "fec377b4",
   "metadata": {},
   "outputs": [],
   "source": [
    "# Imports\n",
    "from pathlib import Path\n",
    "from typing import Tuple, List\n",
    "import os, glob\n",
    "import pandas as pd\n",
    "import matplotlib.pyplot as plt\n",
    "import seaborn as sns\n",
    "import gcsfs\n",
    "from numba import njit\n",
    "import torch\n",
    "import torch.nn as nn\n",
    "import torch.nn.functional as F\n",
    "from torch.utils.data import DataLoader, Dataset\n",
    "import tqdm\n",
    "import matplotlib.pyplot as plt\n",
    "# Globals, this one is downloading from the google cloud \n",
    "FILE_SYSTEM = gcsfs.core.GCSFileSystem(requester_pays=True)\n",
    "# CAMELS_ROOT = Path('pangeo-ncar-camels/basin_dataset_public_v1p2')\n",
    "CAMELS_ROOT = Path('camels-20240502T2331Z/basin_timeseries_v1p2_metForcing_obsFlow/basin_dataset_public_v1p2')\n",
    "DEVICE = torch.device(\"cuda:0\" if torch.cuda.is_available() else \"cpu\") # This line checks if GPU is available"
   ]
  },
  {
   "cell_type": "code",
   "execution_count": 2,
   "id": "22d94bf8",
   "metadata": {},
   "outputs": [
    {
     "data": {
      "text/plain": [
       "device(type='cpu')"
      ]
     },
     "execution_count": 2,
     "metadata": {},
     "output_type": "execute_result"
    }
   ],
   "source": [
    "DEVICE"
   ]
  },
  {
   "cell_type": "code",
   "execution_count": 3,
   "id": "3fd6c9ed",
   "metadata": {},
   "outputs": [
    {
     "data": {
      "text/plain": [
       "PosixPath('camels-20240502T2331Z/basin_timeseries_v1p2_metForcing_obsFlow/basin_dataset_public_v1p2')"
      ]
     },
     "execution_count": 3,
     "metadata": {},
     "output_type": "execute_result"
    }
   ],
   "source": [
    "CAMELS_ROOT"
   ]
  },
  {
   "cell_type": "markdown",
   "id": "6d5bd262",
   "metadata": {},
   "source": [
    "**We try the code for BEAR RIVER in IDAHO UTAH STATE, we use the code ID 10092700**"
   ]
  },
  {
   "cell_type": "code",
   "execution_count": 4,
   "id": "5bd82015",
   "metadata": {
    "scrolled": false
   },
   "outputs": [
    {
     "name": "stdout",
     "output_type": "stream",
     "text": [
      "[]\n"
     ]
    },
    {
     "ename": "RuntimeError",
     "evalue": "No forcing file found for Basin 10092700",
     "output_type": "error",
     "traceback": [
      "\u001b[0;31m---------------------------------------------------------------------------\u001b[0m",
      "\u001b[0;31mRuntimeError\u001b[0m                              Traceback (most recent call last)",
      "Cell \u001b[0;32mIn[4], line 16\u001b[0m\n\u001b[1;32m     14\u001b[0m \u001b[38;5;66;03m#  if no files were found it will raise an error if so\u001b[39;00m\n\u001b[1;32m     15\u001b[0m \u001b[38;5;28;01mif\u001b[39;00m \u001b[38;5;28mlen\u001b[39m(files) \u001b[38;5;241m==\u001b[39m \u001b[38;5;241m0\u001b[39m:\n\u001b[0;32m---> 16\u001b[0m     \u001b[38;5;28;01mraise\u001b[39;00m \u001b[38;5;167;01mRuntimeError\u001b[39;00m(\u001b[38;5;124mf\u001b[39m\u001b[38;5;124m'\u001b[39m\u001b[38;5;124mNo forcing file found for Basin \u001b[39m\u001b[38;5;132;01m{\u001b[39;00mbasin\u001b[38;5;132;01m}\u001b[39;00m\u001b[38;5;124m'\u001b[39m)\n\u001b[1;32m     17\u001b[0m \u001b[38;5;28;01melse\u001b[39;00m:\n\u001b[1;32m     18\u001b[0m     \u001b[38;5;66;03m# what if we assume we want to use the first file found\u001b[39;00m\n\u001b[1;32m     19\u001b[0m     file_path \u001b[38;5;241m=\u001b[39m files[\u001b[38;5;241m0\u001b[39m]\n",
      "\u001b[0;31mRuntimeError\u001b[0m: No forcing file found for Basin 10092700"
     ]
    }
   ],
   "source": [
    "#basin = '01013500'\n",
    "basin='10092700'#bear river at IDAHO UTAH STATE LINE\n",
    "# This is the Root directory of meteorological forcings\n",
    "# forcing_path = 'camels-20240502T2331Z/basin_timeseries_v1p2_metForcing_obsFlow/basin_dataset_public_v1p2/basin_mean_forcing/daymet'\n",
    "forcing_path = CAMELS_ROOT / 'basin_mean_forcing' / 'daymet'\n",
    "\n",
    "#now using the glob to get to the pathof the files\n",
    "#searching for a file that has this basin ID and is ending with 'txt' it does it continously/recursively\n",
    "files = list(glob.glob(os.path.join(forcing_path, '**', f'{basin}_*.txt'), recursive=True))\n",
    "\n",
    "#then we print the list of files that are found\n",
    "print(files)\n",
    "\n",
    "#  if no files were found it will raise an error if so\n",
    "if len(files) == 0:\n",
    "    raise RuntimeError(f'No forcing file found for Basin {basin}')\n",
    "else:\n",
    "    # what if we assume we want to use the first file found\n",
    "    file_path = files[0]\n",
    "    print(\"Using file:\", file_path)\n",
    "    \n",
    "with open(file_path, 'r') as fp:\n",
    "    df = pd.read_csv(fp, sep='\\s+', header=3)\n",
    "dates = (df.Year.map(str) + \"/\" + df.Mnth.map(str) + \"/\"\n",
    "         + df.Day.map(str))\n",
    "df.index = pd.to_datetime(dates, format=\"%Y/%m/%d\")\n",
    "\n",
    "with open(file_path, 'r') as fp:\n",
    "    content = fp.readlines()\n",
    "    area = int(content[2])\n",
    "    \n",
    "df"
   ]
  },
  {
   "cell_type": "markdown",
   "id": "4acfd0dc",
   "metadata": {},
   "source": [
    "**Because the basin Id we have given the code is not in the CAMELS dataset, we get the above error. The next thing we should do is actually searching for the basin IDs present in the CAMELS dataset and trying with them instead, so this [htmlfor CAMEL BASIN IDS](https://gdex.ucar.edu/dataset/camels/file/basin_timeseries_v1p2_metForcing_obsFlow.zip/content.html) contains different basin IDs used listed as basin_dataset_public_v1p2/elev_bands_forcing/daymet/07/05585000... this number at the end 05585000 is the basin ID so there are different ones listed, but we can not tell what region ius being represented so we go on this [USGS SEARCH](https://wdr.water.usgs.gov/allsearch.php) to search the region that the basin ID represents.**"
   ]
  },
  {
   "cell_type": "markdown",
   "id": "adb474f2",
   "metadata": {},
   "source": [
    "**We try with another ID that is actually present in the CAMELS dataset and search for its region**"
   ]
  },
  {
   "cell_type": "markdown",
   "id": "32053980",
   "metadata": {},
   "source": [
    "**02053800, this number when searched on [USGS SEARCH](https://wdr.water.usgs.gov/allsearch.php)  is showing that the region is VIRGINIA** "
   ]
  },
  {
   "cell_type": "code",
   "execution_count": 120,
   "id": "9c3681f5",
   "metadata": {},
   "outputs": [
    {
     "name": "stdout",
     "output_type": "stream",
     "text": [
      "['camels-20240502T2331Z/basin_timeseries_v1p2_metForcing_obsFlow/basin_dataset_public_v1p2/basin_mean_forcing/daymet/03/02053800_lump_cida_forcing_leap.txt']\n",
      "Using file: camels-20240502T2331Z/basin_timeseries_v1p2_metForcing_obsFlow/basin_dataset_public_v1p2/basin_mean_forcing/daymet/03/02053800_lump_cida_forcing_leap.txt\n"
     ]
    },
    {
     "data": {
      "text/html": [
       "<div>\n",
       "<style scoped>\n",
       "    .dataframe tbody tr th:only-of-type {\n",
       "        vertical-align: middle;\n",
       "    }\n",
       "\n",
       "    .dataframe tbody tr th {\n",
       "        vertical-align: top;\n",
       "    }\n",
       "\n",
       "    .dataframe thead th {\n",
       "        text-align: right;\n",
       "    }\n",
       "</style>\n",
       "<table border=\"1\" class=\"dataframe\">\n",
       "  <thead>\n",
       "    <tr style=\"text-align: right;\">\n",
       "      <th></th>\n",
       "      <th>Year</th>\n",
       "      <th>Mnth</th>\n",
       "      <th>Day</th>\n",
       "      <th>Hr</th>\n",
       "      <th>dayl(s)</th>\n",
       "      <th>prcp(mm/day)</th>\n",
       "      <th>srad(W/m2)</th>\n",
       "      <th>swe(mm)</th>\n",
       "      <th>tmax(C)</th>\n",
       "      <th>tmin(C)</th>\n",
       "      <th>vp(Pa)</th>\n",
       "    </tr>\n",
       "  </thead>\n",
       "  <tbody>\n",
       "    <tr>\n",
       "      <th>1980-01-01</th>\n",
       "      <td>1980</td>\n",
       "      <td>1</td>\n",
       "      <td>1</td>\n",
       "      <td>12</td>\n",
       "      <td>34214.39</td>\n",
       "      <td>0.00</td>\n",
       "      <td>250.26</td>\n",
       "      <td>0.0</td>\n",
       "      <td>6.81</td>\n",
       "      <td>-3.50</td>\n",
       "      <td>468.24</td>\n",
       "    </tr>\n",
       "    <tr>\n",
       "      <th>1980-01-02</th>\n",
       "      <td>1980</td>\n",
       "      <td>1</td>\n",
       "      <td>2</td>\n",
       "      <td>12</td>\n",
       "      <td>34214.39</td>\n",
       "      <td>0.00</td>\n",
       "      <td>247.38</td>\n",
       "      <td>0.0</td>\n",
       "      <td>5.38</td>\n",
       "      <td>-4.54</td>\n",
       "      <td>435.95</td>\n",
       "    </tr>\n",
       "    <tr>\n",
       "      <th>1980-01-03</th>\n",
       "      <td>1980</td>\n",
       "      <td>1</td>\n",
       "      <td>3</td>\n",
       "      <td>12</td>\n",
       "      <td>34214.39</td>\n",
       "      <td>0.00</td>\n",
       "      <td>237.29</td>\n",
       "      <td>0.0</td>\n",
       "      <td>6.02</td>\n",
       "      <td>-3.19</td>\n",
       "      <td>483.55</td>\n",
       "    </tr>\n",
       "    <tr>\n",
       "      <th>1980-01-04</th>\n",
       "      <td>1980</td>\n",
       "      <td>1</td>\n",
       "      <td>4</td>\n",
       "      <td>12</td>\n",
       "      <td>34214.39</td>\n",
       "      <td>0.00</td>\n",
       "      <td>190.49</td>\n",
       "      <td>0.0</td>\n",
       "      <td>3.08</td>\n",
       "      <td>-3.60</td>\n",
       "      <td>468.13</td>\n",
       "    </tr>\n",
       "    <tr>\n",
       "      <th>1980-01-05</th>\n",
       "      <td>1980</td>\n",
       "      <td>1</td>\n",
       "      <td>5</td>\n",
       "      <td>12</td>\n",
       "      <td>34263.54</td>\n",
       "      <td>10.21</td>\n",
       "      <td>84.61</td>\n",
       "      <td>0.0</td>\n",
       "      <td>-1.42</td>\n",
       "      <td>-4.94</td>\n",
       "      <td>425.26</td>\n",
       "    </tr>\n",
       "    <tr>\n",
       "      <th>...</th>\n",
       "      <td>...</td>\n",
       "      <td>...</td>\n",
       "      <td>...</td>\n",
       "      <td>...</td>\n",
       "      <td>...</td>\n",
       "      <td>...</td>\n",
       "      <td>...</td>\n",
       "      <td>...</td>\n",
       "      <td>...</td>\n",
       "      <td>...</td>\n",
       "      <td>...</td>\n",
       "    </tr>\n",
       "    <tr>\n",
       "      <th>2014-12-27</th>\n",
       "      <td>2014</td>\n",
       "      <td>12</td>\n",
       "      <td>27</td>\n",
       "      <td>12</td>\n",
       "      <td>34210.43</td>\n",
       "      <td>0.00</td>\n",
       "      <td>284.99</td>\n",
       "      <td>0.0</td>\n",
       "      <td>12.64</td>\n",
       "      <td>-3.10</td>\n",
       "      <td>488.99</td>\n",
       "    </tr>\n",
       "    <tr>\n",
       "      <th>2014-12-28</th>\n",
       "      <td>2014</td>\n",
       "      <td>12</td>\n",
       "      <td>28</td>\n",
       "      <td>12</td>\n",
       "      <td>34214.39</td>\n",
       "      <td>0.00</td>\n",
       "      <td>278.29</td>\n",
       "      <td>0.0</td>\n",
       "      <td>16.76</td>\n",
       "      <td>1.44</td>\n",
       "      <td>673.01</td>\n",
       "    </tr>\n",
       "    <tr>\n",
       "      <th>2014-12-29</th>\n",
       "      <td>2014</td>\n",
       "      <td>12</td>\n",
       "      <td>29</td>\n",
       "      <td>12</td>\n",
       "      <td>34214.39</td>\n",
       "      <td>6.31</td>\n",
       "      <td>100.35</td>\n",
       "      <td>0.0</td>\n",
       "      <td>10.70</td>\n",
       "      <td>5.87</td>\n",
       "      <td>920.17</td>\n",
       "    </tr>\n",
       "    <tr>\n",
       "      <th>2014-12-30</th>\n",
       "      <td>2014</td>\n",
       "      <td>12</td>\n",
       "      <td>30</td>\n",
       "      <td>12</td>\n",
       "      <td>34214.39</td>\n",
       "      <td>7.16</td>\n",
       "      <td>162.75</td>\n",
       "      <td>0.0</td>\n",
       "      <td>6.59</td>\n",
       "      <td>-1.66</td>\n",
       "      <td>542.24</td>\n",
       "    </tr>\n",
       "    <tr>\n",
       "      <th>2014-12-31</th>\n",
       "      <td>2014</td>\n",
       "      <td>12</td>\n",
       "      <td>31</td>\n",
       "      <td>12</td>\n",
       "      <td>34214.39</td>\n",
       "      <td>0.50</td>\n",
       "      <td>185.58</td>\n",
       "      <td>0.0</td>\n",
       "      <td>0.11</td>\n",
       "      <td>-6.07</td>\n",
       "      <td>387.15</td>\n",
       "    </tr>\n",
       "  </tbody>\n",
       "</table>\n",
       "<p>12784 rows × 11 columns</p>\n",
       "</div>"
      ],
      "text/plain": [
       "            Year  Mnth  Day  Hr   dayl(s)  prcp(mm/day)  srad(W/m2)  swe(mm)  \\\n",
       "1980-01-01  1980     1    1  12  34214.39          0.00      250.26      0.0   \n",
       "1980-01-02  1980     1    2  12  34214.39          0.00      247.38      0.0   \n",
       "1980-01-03  1980     1    3  12  34214.39          0.00      237.29      0.0   \n",
       "1980-01-04  1980     1    4  12  34214.39          0.00      190.49      0.0   \n",
       "1980-01-05  1980     1    5  12  34263.54         10.21       84.61      0.0   \n",
       "...          ...   ...  ...  ..       ...           ...         ...      ...   \n",
       "2014-12-27  2014    12   27  12  34210.43          0.00      284.99      0.0   \n",
       "2014-12-28  2014    12   28  12  34214.39          0.00      278.29      0.0   \n",
       "2014-12-29  2014    12   29  12  34214.39          6.31      100.35      0.0   \n",
       "2014-12-30  2014    12   30  12  34214.39          7.16      162.75      0.0   \n",
       "2014-12-31  2014    12   31  12  34214.39          0.50      185.58      0.0   \n",
       "\n",
       "            tmax(C)  tmin(C)  vp(Pa)  \n",
       "1980-01-01     6.81    -3.50  468.24  \n",
       "1980-01-02     5.38    -4.54  435.95  \n",
       "1980-01-03     6.02    -3.19  483.55  \n",
       "1980-01-04     3.08    -3.60  468.13  \n",
       "1980-01-05    -1.42    -4.94  425.26  \n",
       "...             ...      ...     ...  \n",
       "2014-12-27    12.64    -3.10  488.99  \n",
       "2014-12-28    16.76     1.44  673.01  \n",
       "2014-12-29    10.70     5.87  920.17  \n",
       "2014-12-30     6.59    -1.66  542.24  \n",
       "2014-12-31     0.11    -6.07  387.15  \n",
       "\n",
       "[12784 rows x 11 columns]"
      ]
     },
     "execution_count": 120,
     "metadata": {},
     "output_type": "execute_result"
    }
   ],
   "source": [
    "basin='02053800'#VIRGINIA\n",
    "#for idaho present in the dataset\n",
    "#>>basin='12411000' #works\n",
    "#>>basin='12414500'#works\n",
    "#>basin='13083000'#wo\n",
    "#>basin='13235000'#wo\n",
    "#>basin='13240000'#wo\n",
    "#>basin='13310700'#wo\n",
    "#>basin='13313000'\n",
    "#>basin='13337000'\n",
    "#>basin='13338500'\n",
    "#>basin='13340000'#wo\n",
    "#>basin='13340600'#wo\n",
    "#Other regions of the Pacific Northwest were tried and GreatBasin were tried using the region number\n",
    "# This is the Root directory of meteorological forcings\n",
    "# forcing_path = 'camels-20240502T2331Z/basin_timeseries_v1p2_metForcing_obsFlow/basin_dataset_public_v1p2/basin_mean_forcing/daymet'\n",
    "forcing_path = CAMELS_ROOT / 'basin_mean_forcing' / 'daymet'\n",
    "\n",
    "#now using the glob to get to the pathof the files\n",
    "#searching for a file that has this basin ID and is ending with 'txt' it does it continously/recursively\n",
    "files = list(glob.glob(os.path.join(forcing_path, '**', f'{basin}_*.txt'), recursive=True))\n",
    "\n",
    "#then we print the list of files that are found\n",
    "print(files)\n",
    "\n",
    "#  if no files were found it will raise an error if so\n",
    "if len(files) == 0:\n",
    "    raise RuntimeError(f'No forcing file found for Basin {basin}')\n",
    "else:\n",
    "    # what if we assume we want to use the first file found\n",
    "    file_path = files[0]\n",
    "    print(\"Using file:\", file_path)\n",
    "    \n",
    "with open(file_path, 'r') as fp:\n",
    "    df = pd.read_csv(fp, sep='\\s+', header=3)\n",
    "dates = (df.Year.map(str) + \"/\" + df.Mnth.map(str) + \"/\"\n",
    "         + df.Day.map(str))\n",
    "df.index = pd.to_datetime(dates, format=\"%Y/%m/%d\")\n",
    "\n",
    "with open(file_path, 'r') as fp:\n",
    "    content = fp.readlines()\n",
    "    area = int(content[2])\n",
    "    \n",
    "df"
   ]
  },
  {
   "cell_type": "markdown",
   "id": "c7f3527b",
   "metadata": {},
   "source": [
    "Column interpretations: Snow Water Equivalent (swe(mm)), Vapor Pressure (vp(Pa)), Daylight (dayl(s)), "
   ]
  },
  {
   "cell_type": "markdown",
   "id": "51ed507b",
   "metadata": {},
   "source": [
    "Correlation matrix will help us see the relations between variables "
   ]
  },
  {
   "cell_type": "code",
   "execution_count": 121,
   "id": "7d5f7e92",
   "metadata": {},
   "outputs": [
    {
     "data": {
      "image/png": "[encoded data removed]",
      "text/plain": [
       "<Figure size 1000x800 with 2 Axes>"
      ]
     },
     "metadata": {},
     "output_type": "display_data"
    }
   ],
   "source": [
    "plt.figure(figsize=(10, 8))\n",
    "correlation_matrix = df.corr()\n",
    "sns.heatmap(correlation_matrix, annot=True, cmap='coolwarm', center=0)\n",
    "plt.title('Correlation Matrix')\n",
    "plt.show()\n"
   ]
  },
  {
   "cell_type": "code",
   "execution_count": 122,
   "id": "e1fda890",
   "metadata": {},
   "outputs": [],
   "source": [
    "def load_forcing(basin: str) -> Tuple[pd.DataFrame, int]:\n",
    "    \"\"\"Load the meteorological forcing data of a specific basin.\n",
    "\n",
    "    :param basin: 8-digit code of basin as string.\n",
    "    \n",
    "    :return: pd.DataFrame containing the meteorological forcing data and the\n",
    "        area of the basin as integer.\n",
    "    \"\"\"\n",
    "    # root directory of meteorological forcings\n",
    "    forcing_path = CAMELS_ROOT / 'basin_mean_forcing' / 'daymet'\n",
    "    \n",
    "    # get path of forcing file\n",
    "#     files = list(FILE_SYSTEM.glob(f\"{str(forcing_path)}/**/{basin}_*.txt\"))\n",
    "    files = list(glob.glob(os.path.join(forcing_path, '**', f'{basin}_*.txt'), recursive=True))\n",
    "    if len(files) == 0:\n",
    "        raise RuntimeError(f'No forcing file file found for Basin {basin}')\n",
    "    else:\n",
    "        file_path = files[0]\n",
    "    \n",
    "    # read-in data and convert date to datetime index\n",
    "#     with FILE_SYSTEM.open(file_path) as fp:\n",
    "    with open(file_path, 'r') as fp:\n",
    "        df = pd.read_csv(fp, sep='\\s+', header=3)\n",
    "    dates = (df.Year.map(str) + \"/\" + df.Mnth.map(str) + \"/\"\n",
    "             + df.Day.map(str))\n",
    "    df.index = pd.to_datetime(dates, format=\"%Y/%m/%d\")\n",
    "\n",
    "    # load area from header\n",
    "#     with FILE_SYSTEM.open(file_path) as fp:\n",
    "    with open(file_path, 'r') as fp:\n",
    "        content = fp.readlines()\n",
    "        area = int(content[2])\n",
    "\n",
    "    return df, area\n",
    "\n",
    "\n",
    "# def load_discharge(basin: str, area: int) ->  pd.Series:\n",
    "#     \"\"\"Load the discharge time series for a specific basin.\n",
    "\n",
    "#     :param basin: 8-digit code of basin as string.\n",
    "#     :param area: int, area of the catchment in square meters\n",
    "    \n",
    "#     :return: A pd.Series containng the catchment normalized discharge.\n",
    "#     \"\"\"\n",
    "#     # root directory of the streamflow data\n",
    "#     discharge_path = CAMELS_ROOT / 'usgs_streamflow'\n",
    "    \n",
    "#     # get path of streamflow file file\n",
    "# #     files = list(FILE_SYSTEM.glob(f\"{str(discharge_path)}/**/{basin}_*.txt\"))\n",
    "#     files = list(glob.glob(os.path.join(forcing_path, '**', f'{basin}_*.txt'), recursive=True))\n",
    "#     if len(files) == 0:\n",
    "#         raise RuntimeError(f'No discharge file found for Basin {basin}')\n",
    "#     else:\n",
    "#         file_path = files[0]\n",
    "\n",
    "#     # read-in data and convert date to datetime index\n",
    "#     col_names = ['basin', 'Year', 'Mnth', 'Day', 'QObs', 'flag']\n",
    "# #     with FILE_SYSTEM.open(file_path) as fp:\n",
    "#     with open(file_path, 'r') as fp:\n",
    "#         df = pd.read_csv(fp, sep='\\s+', header=None, names=col_names)\n",
    "#     dates = (df.Year.map(str) + \"/\" + df.Mnth.map(str) + \"/\"\n",
    "#              + df.Day.map(str))\n",
    "#     df.index = pd.to_datetime(dates, format=\"%Y/%m/%d\")\n",
    "\n",
    "#     # normalize discharge from cubic feed per second to mm per day\n",
    "#     df.QObs = 28316846.592 * df.QObs * 86400 / (area * 10 ** 6)\n",
    "\n",
    "#     return df.QObs\n",
    "\n",
    "def load_discharge(basin: str, area: int) -> pd.Series:\n",
    "    \"\"\"Load the discharge time series for a specific basin.\n",
    "\n",
    "    :param basin: 8-digit code of basin as string.\n",
    "    :param area: int, area of the catchment in square meters\n",
    "\n",
    "    :return: A pd.Series containing the catchment normalized discharge.\n",
    "    \"\"\"\n",
    "    # Root directory of the streamflow data\n",
    "    discharge_path = CAMELS_ROOT / 'usgs_streamflow'\n",
    "    \n",
    "    # Use glob to get path of streamflow file\n",
    "    files = list(glob.glob(str(discharge_path / f'**/{basin}_*.txt'), recursive=True))\n",
    "    if len(files) == 0:\n",
    "        raise RuntimeError(f'No discharge file found for Basin {basin}')\n",
    "    else:\n",
    "        file_path = files[0]\n",
    "\n",
    "    # Read-in data and convert date to datetime index\n",
    "    col_names = ['basin', 'Year', 'Mnth', 'Day', 'QObs', 'flag']\n",
    "    with open(file_path, 'r') as fp:\n",
    "        df = pd.read_csv(fp, sep='\\s+', header=None, names=col_names)\n",
    "\n",
    "    # Convert date columns to datetime index\n",
    "    dates = df.Year.astype(str) + \"/\" + df.Mnth.astype(str) + \"/\" + df.Day.astype(str)\n",
    "    df.index = pd.to_datetime(dates, format=\"%Y/%m/%d\")\n",
    "\n",
    "    # Normalize discharge from cubic feet per second to mm per day\n",
    "    # Constants are to convert CFS to cubic meters per second, and then to mm/day over area in square kilometers\n",
    "    df['QObs'] = 28316846.592 * df['QObs'] * 86400 / (area * 10 ** 6)\n",
    "\n",
    "    return df['QObs']"
   ]
  },
  {
   "cell_type": "code",
   "execution_count": 123,
   "id": "d1593ec0",
   "metadata": {},
   "outputs": [],
   "source": [
    "@njit\n",
    "def reshape_data(x: np.ndarray, y: np.ndarray, seq_length: int) -> Tuple[np.ndarray, np.ndarray]:\n",
    "    \"\"\"\n",
    "    Reshape matrix data into sample shape for LSTM training.\n",
    "\n",
    "    :param x: Matrix containing input features column wise and time steps row wise\n",
    "    :param y: Matrix containing the output feature.\n",
    "    :param seq_length: Length of look back days for one day of prediction\n",
    "    \n",
    "    :return: Two np.ndarrays, the first of shape (samples, length of sequence,\n",
    "        number of features), containing the input data for the LSTM. The second\n",
    "        of shape (samples, 1) containing the expected output for each input\n",
    "        sample.\n",
    "    \"\"\"\n",
    "    num_samples, num_features = x.shape\n",
    "\n",
    "    x_new = np.zeros((num_samples - seq_length + 1, seq_length, num_features))\n",
    "    y_new = np.zeros((num_samples - seq_length + 1, 1))\n",
    "\n",
    "    for i in range(0, x_new.shape[0]):\n",
    "        x_new[i, :, :num_features] = x[i:i + seq_length, :]\n",
    "        y_new[i, :] = y[i + seq_length - 1, 0]\n",
    "\n",
    "    return x_new, y_new"
   ]
  },
  {
   "cell_type": "code",
   "execution_count": 124,
   "id": "5e8cf592",
   "metadata": {},
   "outputs": [],
   "source": [
    "class CamelsTXT(Dataset):\n",
    "    \"\"\"Torch Dataset for basic use of data from the CAMELS data set.\n",
    "\n",
    "    This data set provides meteorological observations and discharge of a given\n",
    "    basin from the CAMELS data set.\n",
    "    \"\"\"\n",
    "\n",
    "    def __init__(self, basin: str, seq_length: int=365,period: str=None,\n",
    "                 dates: List=None, means: pd.Series=None, stds: pd.Series=None):\n",
    "        \"\"\"Initialize Dataset containing the data of a single basin.\n",
    "\n",
    "        :param basin: 8-digit code of basin as string.\n",
    "        :param seq_length: (optional) Length of the time window of\n",
    "            meteorological input provided for one time step of prediction.\n",
    "        :param period: (optional) One of ['train', 'eval']. None loads the \n",
    "            entire time series.\n",
    "        :param dates: (optional) List of pd.DateTimes of the start and end date \n",
    "            of the discharge period that is used.\n",
    "        :param means: (optional) Means of input and output features derived from\n",
    "            the training period. Has to be provided for 'eval' period. Can be\n",
    "            retrieved if calling .get_means() on the data set.\n",
    "        :param stds: (optional) Stds of input and output features derived from\n",
    "            the training period. Has to be provided for 'eval' period. Can be\n",
    "            retrieved if calling .get_stds() on the data set.\n",
    "        \"\"\"\n",
    "        self.basin = basin\n",
    "        self.seq_length = seq_length\n",
    "        self.period = period\n",
    "        self.dates = dates\n",
    "        self.means = means\n",
    "        self.stds = stds\n",
    "\n",
    "        # load data into memory\n",
    "        self.x, self.y = self._load_data()\n",
    "\n",
    "        # store number of samples as class attribute\n",
    "        self.num_samples = self.x.shape[0]\n",
    "    def __len__(self):\n",
    "        return self.num_samples\n",
    "\n",
    "    def __getitem__(self, idx: int):\n",
    "        return self.x[idx], self.y[idx]\n",
    "\n",
    "    def _load_data(self):\n",
    "        \"\"\"Load input and output data from text files.\"\"\"\n",
    "        df, area = load_forcing(self.basin)\n",
    "        df['QObs(mm/d)'] = load_discharge(self.basin, area)\n",
    "        \n",
    "        if self.dates is not None:\n",
    "            # If meteorological observations exist before start date\n",
    "            # use these as well. Similiar to hydrological warmup period.\n",
    "            if self.dates[0] - pd.DateOffset(days=self.seq_length) > df.index[0]:\n",
    "                start_date = self.dates[0] - pd.DateOffset(days=self.seq_length)\n",
    "            else:\n",
    "                start_date = self.dates[0]\n",
    "            df = df[start_date:self.dates[1]]\n",
    "\n",
    "        # if training period store means and stds\n",
    "        if self.period == 'train':\n",
    "            self.means = df.mean()\n",
    "            self.stds = df.std()\n",
    "\n",
    "        # extract input and output features from DataFrame\n",
    "        x = np.array([df['prcp(mm/day)'].values,\n",
    "                      df['srad(W/m2)'].values,\n",
    "                      df['tmax(C)'].values,\n",
    "                      df['tmin(C)'].values,\n",
    "                      df['vp(Pa)'].values]).T\n",
    "        y = np.array([df['QObs(mm/d)'].values]).T\n",
    "\n",
    "        # normalize data, reshape for LSTM training and remove invalid samples\n",
    "        x = self._local_normalization(x, variable='inputs')\n",
    "        x, y = reshape_data(x, y, self.seq_length)\n",
    "        if self.period == \"train\":\n",
    "            # Delete all samples, where discharge is NaN\n",
    "            if np.sum(np.isnan(y)) > 0:\n",
    "                print(f\"Deleted some records because of NaNs {self.basin}\")\n",
    "                x = np.delete(x, np.argwhere(np.isnan(y)), axis=0)\n",
    "                y = np.delete(y, np.argwhere(np.isnan(y)), axis=0)\n",
    "            \n",
    "            # Deletes all records, where no discharge was measured (-999)\n",
    "            x = np.delete(x, np.argwhere(y < 0)[:, 0], axis=0)\n",
    "            y = np.delete(y, np.argwhere(y < 0)[:, 0], axis=0)\n",
    "            \n",
    "            # normalize discharge\n",
    "            y = self._local_normalization(y, variable='output')\n",
    "\n",
    "        # convert arrays to torch tensors\n",
    "        x = torch.from_numpy(x.astype(np.float32))\n",
    "        y = torch.from_numpy(y.astype(np.float32))\n",
    "\n",
    "        return x, y\n",
    "\n",
    "    def _local_normalization(self, feature: np.ndarray, variable: str) -> \\\n",
    "            np.ndarray:\n",
    "        \"\"\"Normalize input/output features with local mean/std.\n",
    "\n",
    "        :param feature: Numpy array containing the feature(s) as matrix.\n",
    "        :param variable: Either 'inputs' or 'output' showing which feature will\n",
    "            be normalized\n",
    "        :return: array containing the normalized feature\n",
    "        \"\"\"\n",
    "        if variable == 'inputs':\n",
    "            means = np.array([self.means['prcp(mm/day)'],\n",
    "                              self.means['srad(W/m2)'],\n",
    "                              self.means['tmax(C)'],\n",
    "                              self.means['tmin(C)'],\n",
    "                              self.means['vp(Pa)']])\n",
    "            stds = np.array([self.stds['prcp(mm/day)'],\n",
    "                             self.stds['srad(W/m2)'],\n",
    "                             self.stds['tmax(C)'],\n",
    "                             self.stds['tmin(C)'],\n",
    "                             self.stds['vp(Pa)']])\n",
    "            feature = (feature - means) / stds\n",
    "        elif variable == 'output':\n",
    "            feature = ((feature - self.means[\"QObs(mm/d)\"]) /\n",
    "                       self.stds[\"QObs(mm/d)\"])\n",
    "        else:\n",
    "            raise RuntimeError(f\"Unknown variable type {variable}\")\n",
    "\n",
    "        return feature\n",
    "    def local_rescale(self, feature: np.ndarray, variable: str) -> \\\n",
    "            np.ndarray:\n",
    "        \"\"\"Rescale input/output features with local mean/std.\n",
    "\n",
    "        :param feature: Numpy array containing the feature(s) as matrix.\n",
    "        :param variable: Either 'inputs' or 'output' showing which feature will\n",
    "            be normalized\n",
    "        :return: array containing the normalized feature\n",
    "        \"\"\"\n",
    "        if variable == 'inputs':\n",
    "            means = np.array([self.means['prcp(mm/day)'],\n",
    "                              self.means['srad(W/m2)'],\n",
    "                              self.means['tmax(C)'],\n",
    "                              self.means['tmin(C)'],\n",
    "                              self.means['vp(Pa)']])\n",
    "            stds = np.array([self.stds['prcp(mm/day)'],\n",
    "                             self.stds['srad(W/m2)'],\n",
    "                             self.stds['tmax(C)'],\n",
    "                             self.stds['tmin(C)'],\n",
    "                             self.stds['vp(Pa)']])\n",
    "            feature = feature * stds + means\n",
    "        elif variable == 'output':\n",
    "            feature = (feature * self.stds[\"QObs(mm/d)\"] +\n",
    "                       self.means[\"QObs(mm/d)\"])\n",
    "        else:\n",
    "            raise RuntimeError(f\"Unknown variable type {variable}\")\n",
    "\n",
    "        return feature\n",
    "\n",
    "    def get_means(self):\n",
    "        return self.means\n",
    "\n",
    "    def get_stds(self):\n",
    "        return self.stds"
   ]
  },
  {
   "cell_type": "markdown",
   "id": "105a5f68",
   "metadata": {},
   "source": [
    "**Building an LSTM**"
   ]
  },
  {
   "cell_type": "code",
   "execution_count": 125,
   "id": "46ef69b3",
   "metadata": {},
   "outputs": [],
   "source": [
    "class Model(nn.Module):\n",
    "    \"\"\"Implementation of a single layer LSTM network\"\"\"\n",
    "    def __init__(self, hidden_size: int, dropout_rate: float=0.0):\n",
    "        \"\"\"Initialize model\n",
    "        :param hidden_size: Number of hidden units/LSTM cells\n",
    "        :param dropout_rate: Dropout rate of the last fully connected\n",
    "            layer. Default 0.0\n",
    "        \"\"\"\n",
    "        super(Model, self).__init__()\n",
    "        self.hidden_size = hidden_size\n",
    "        self.dropout_rate = dropout_rate\n",
    "        \n",
    "        # create required layer\n",
    "        self.lstm = nn.LSTM(input_size=5, hidden_size=self.hidden_size,\n",
    "                           num_layers=1, bias=True, batch_first=True)\n",
    "        self.dropout = nn.Dropout(p=self.dropout_rate)\n",
    "        self.fc = nn.Linear(in_features=self.hidden_size, out_features=1)\n",
    "    def forward(self, x: torch.Tensor) -> torch.Tensor:\n",
    "        \"\"\"Forward pass through the Network.\n",
    "        \n",
    "        :param x: Tensor of shape [batch size, seq length, num features]\n",
    "             containing the input data for the LSTM network.\n",
    "        :return: Tensor containing the network predictions\n",
    "        \"\"\"\n",
    "        output, (h_n, c_n) = self.lstm(x)\n",
    "        \n",
    "        #perform prediction only at the end of the input sequence\n",
    "        pred=self.fc(self.dropout(h_n[-1,:,:]))\n",
    "        return pred\n"
   ]
  },
  {
   "cell_type": "markdown",
   "id": "7deb7b2f",
   "metadata": {},
   "source": [
    "**Train Utilities**"
   ]
  },
  {
   "cell_type": "markdown",
   "id": "87c818b4",
   "metadata": {},
   "source": [
    "We define a function that will have to handle the training process, model evaluation, and performance assessment for an LSTM-based hydrological model.\n",
    "\n",
    "\n",
    "\n",
    "\n",
    "\n"
   ]
  },
  {
   "cell_type": "code",
   "execution_count": 126,
   "id": "bdf10bd7",
   "metadata": {},
   "outputs": [],
   "source": [
    "def train_epoch(model, optimizer, loader, loss_func, epoch):\n",
    "    \"\"\"Train model for a single epoch.\n",
    "\n",
    "    :param model: A torch.nn.Module implementing the LSTM model\n",
    "    :param optimizer: One of PyTorchs optimizer classes.\n",
    "    :param loader: A PyTorch DataLoader, providing the trainings\n",
    "        data in mini batches.\n",
    "    :param loss_func: The loss function to minimize.\n",
    "    :param epoch: The current epoch (int) used for the progress bar\n",
    "    \"\"\"\n",
    "    # set model to train mode (important for dropout)\n",
    "    model.train()\n",
    "    pbar = tqdm.tqdm_notebook(loader)\n",
    "    pbar.set_description(f\"Epoch {epoch}\")\n",
    "    # request mini-batch of data from the loader\n",
    "    for xs, ys in pbar:\n",
    "        # delete previously stored gradients from the model\n",
    "        optimizer.zero_grad()\n",
    "        # push data to GPU (if available)\n",
    "        xs, ys = xs.to(DEVICE), ys.to(DEVICE)\n",
    "        # get model predictions\n",
    "        y_hat = model(xs)\n",
    "        # calculate loss\n",
    "        loss = loss_func(y_hat, ys)\n",
    "        # calculate gradients\n",
    "        loss.backward()\n",
    "        # update the weights\n",
    "        optimizer.step()\n",
    "        # write current loss in the progress bar\n",
    "        pbar.set_postfix_str(f\"Loss: {loss.item():.4f}\")\n",
    "\n",
    "        \n",
    "def eval_model(model, loader) -> Tuple[torch.Tensor, torch.Tensor]:\n",
    "    \"\"\"Evaluate the model.\n",
    "\n",
    "    :param model: A torch.nn.Module implementing the LSTM model\n",
    "    :param loader: A PyTorch DataLoader, providing the data.\n",
    "    \n",
    "    :return: Two torch Tensors, containing the observations and \n",
    "        model predictions\n",
    "    \"\"\"\n",
    "    # set model to eval mode (important for dropout)\n",
    "    model.eval()\n",
    "    obs = []\n",
    "    preds = []\n",
    "    # in inference mode, we don't need to store intermediate steps for\n",
    "    # backprob\n",
    "    with torch.no_grad():\n",
    "        # request mini-batch of data from the loader\n",
    "        for xs, ys in loader:\n",
    "            # push data to GPU (if available)\n",
    "            xs = xs.to(DEVICE)\n",
    "            # get model predictions\n",
    "            y_hat = model(xs)\n",
    "            obs.append(ys)\n",
    "            preds.append(y_hat)\n",
    "            \n",
    "    return torch.cat(obs), torch.cat(preds)\n",
    "        \n",
    "def calc_nse(obs: np.array, sim: np.array) -> float:\n",
    "    \"\"\"Calculate Nash-Sutcliff-Efficiency.\n",
    "\n",
    "    :param obs: Array containing the observations\n",
    "    :param sim: Array containing the simulations\n",
    "    :return: NSE value.\n",
    "    \"\"\"\n",
    "    # only consider time steps, where observations are available\n",
    "    sim = np.delete(sim, np.argwhere(obs < 0), axis=0)\n",
    "    obs = np.delete(obs, np.argwhere(obs < 0), axis=0)\n",
    "\n",
    "    # check for NaNs in observations\n",
    "    sim = np.delete(sim, np.argwhere(np.isnan(obs)), axis=0)\n",
    "    obs = np.delete(obs, np.argwhere(np.isnan(obs)), axis=0)\n",
    "\n",
    "    denominator = np.sum((obs - np.mean(obs)) ** 2)\n",
    "    numerator = np.sum((sim - obs) ** 2)\n",
    "    nse_val = 1 - numerator / denominator\n",
    "\n",
    "    return nse_val"
   ]
  },
  {
   "cell_type": "markdown",
   "id": "204ec3c8",
   "metadata": {},
   "source": [
    "**Preparing Everything for training**"
   ]
  },
  {
   "cell_type": "code",
   "execution_count": 127,
   "id": "24d9bd94",
   "metadata": {
    "scrolled": false
   },
   "outputs": [
    {
     "name": "stdout",
     "output_type": "stream",
     "text": [
      "<__main__.CamelsTXT object at 0x161354190>\n"
     ]
    }
   ],
   "source": [
    "# basin = '01022500'    # can be changed to any 8-digit basin id contained in the CAMELS data set\n",
    "basin = '02053800'#we try virginia again\n",
    "#basin='12411000' \n",
    "#basin='12414500'\n",
    "#basin='13083000'\n",
    "#basin='13235000'\n",
    "#basin='13240000'\n",
    "#basin='13310700'\n",
    "#basin='13313000'\n",
    "#basin='13337000'\n",
    "#basin='13338500'\n",
    "#basin='13340000'\n",
    "basin='13340600'\n",
    "hidden_size = 10      # Number of LSTM cells\n",
    "dropout_rate = 0.0    # Dropout rate of the final fully connected Layer [0.0, 1.0]\n",
    "learning_rate = 1e-3  # Learning rate used to update the weights\n",
    "sequence_length = 365 # Length of the meteorological record provided to the network\n",
    "\n",
    "# ##############\n",
    "# # Data set up#\n",
    "# ##############\n",
    "\n",
    "# # Training data\n",
    "start_date = pd.to_datetime(\"1980-10-01\", format=\"%Y-%m-%d\")\n",
    "end_date = pd.to_datetime(\"1995-09-30\", format=\"%Y-%m-%d\")\n",
    "ds_train = CamelsTXT(basin, seq_length=sequence_length, period=\"train\", dates=[start_date, end_date])\n",
    "print(ds_train)\n",
    "tr_loader = DataLoader(ds_train, batch_size=256, shuffle=True)\n",
    "\n",
    "# Validation data. We use the feature means/stds of the training period for normalization\n",
    "means = ds_train.get_means()\n",
    "stds = ds_train.get_stds()\n",
    "start_date = pd.to_datetime(\"1995-10-01\", format=\"%Y-%m-%d\")\n",
    "end_date = pd.to_datetime(\"2000-09-30\", format=\"%Y-%m-%d\")\n",
    "ds_val = CamelsTXT(basin, seq_length=sequence_length, period=\"eval\", dates=[start_date, end_date],\n",
    "                     means=means, stds=stds)\n",
    "val_loader = DataLoader(ds_val, batch_size=2048, shuffle=False)\n",
    "\n",
    "# Test data. We use the feature means/stds of the training period for normalization\n",
    "start_date = pd.to_datetime(\"2000-10-01\", format=\"%Y-%m-%d\")\n",
    "end_date = pd.to_datetime(\"2010-09-30\", format=\"%Y-%m-%d\")\n",
    "ds_test = CamelsTXT(basin, seq_length=sequence_length, period=\"eval\", dates=[start_date, end_date],\n",
    "                     means=means, stds=stds)\n",
    "test_loader = DataLoader(ds_test, batch_size=2048, shuffle=False)\n",
    "\n",
    "\n",
    "#########################\n",
    "# Model, Optimizer, Loss#\n",
    "#########################\n",
    "#the model will use one year of daily data for its predictions.\n",
    "# Here we create our model, feel free\n",
    "model = Model(hidden_size=hidden_size, dropout_rate=dropout_rate).to(DEVICE)\n",
    "optimizer = torch.optim.Adam(model.parameters(), lr=learning_rate)\n",
    "loss_func = nn.MSELoss()"
   ]
  },
  {
   "cell_type": "code",
   "execution_count": 128,
   "id": "40f7592f",
   "metadata": {},
   "outputs": [
    {
     "name": "stderr",
     "output_type": "stream",
     "text": [
      "/var/folders/k7/8z45yf997x36mb4d9d0smphh0000gp/T/ipykernel_27972/3054175391.py:13: TqdmDeprecationWarning: This function will be removed in tqdm==5.0.0\n",
      "Please use `tqdm.notebook.tqdm` instead of `tqdm.tqdm_notebook`\n",
      "  pbar = tqdm.tqdm_notebook(loader)\n"
     ]
    },
    {
     "data": {
      "application/vnd.jupyter.widget-view+json": {
       "model_id": "fd90b4536bc74a398cad97d676d16324",
       "version_major": 2,
       "version_minor": 0
      },
      "text/plain": [
       "  0%|          | 0/20 [00:00<?, ?it/s]"
      ]
     },
     "metadata": {},
     "output_type": "display_data"
    },
    {
     "name": "stdout",
     "output_type": "stream",
     "text": [
      "Validation NSE: 0.02\n"
     ]
    },
    {
     "data": {
      "application/vnd.jupyter.widget-view+json": {
       "model_id": "5eeefe3f676c4b8a832bf22aff60bf78",
       "version_major": 2,
       "version_minor": 0
      },
      "text/plain": [
       "  0%|          | 0/20 [00:00<?, ?it/s]"
      ]
     },
     "metadata": {},
     "output_type": "display_data"
    },
    {
     "name": "stdout",
     "output_type": "stream",
     "text": [
      "Validation NSE: 0.04\n"
     ]
    },
    {
     "data": {
      "application/vnd.jupyter.widget-view+json": {
       "model_id": "b17e5d96df7a49109a8d20f56063c6a0",
       "version_major": 2,
       "version_minor": 0
      },
      "text/plain": [
       "  0%|          | 0/20 [00:00<?, ?it/s]"
      ]
     },
     "metadata": {},
     "output_type": "display_data"
    },
    {
     "name": "stdout",
     "output_type": "stream",
     "text": [
      "Validation NSE: 0.06\n"
     ]
    },
    {
     "data": {
      "application/vnd.jupyter.widget-view+json": {
       "model_id": "299bae15d99a4d08a94e2ca295927b6e",
       "version_major": 2,
       "version_minor": 0
      },
      "text/plain": [
       "  0%|          | 0/20 [00:00<?, ?it/s]"
      ]
     },
     "metadata": {},
     "output_type": "display_data"
    },
    {
     "name": "stdout",
     "output_type": "stream",
     "text": [
      "Validation NSE: 0.11\n"
     ]
    },
    {
     "data": {
      "application/vnd.jupyter.widget-view+json": {
       "model_id": "cfcea58029d3496c916f653561efe0d4",
       "version_major": 2,
       "version_minor": 0
      },
      "text/plain": [
       "  0%|          | 0/20 [00:00<?, ?it/s]"
      ]
     },
     "metadata": {},
     "output_type": "display_data"
    },
    {
     "name": "stdout",
     "output_type": "stream",
     "text": [
      "Validation NSE: 0.23\n"
     ]
    },
    {
     "data": {
      "application/vnd.jupyter.widget-view+json": {
       "model_id": "24bdbe16ecdd4d5186630db0878be475",
       "version_major": 2,
       "version_minor": 0
      },
      "text/plain": [
       "  0%|          | 0/20 [00:00<?, ?it/s]"
      ]
     },
     "metadata": {},
     "output_type": "display_data"
    },
    {
     "name": "stdout",
     "output_type": "stream",
     "text": [
      "Validation NSE: 0.36\n"
     ]
    },
    {
     "data": {
      "application/vnd.jupyter.widget-view+json": {
       "model_id": "b6f62f410c744bafabb059141ab8aac2",
       "version_major": 2,
       "version_minor": 0
      },
      "text/plain": [
       "  0%|          | 0/20 [00:00<?, ?it/s]"
      ]
     },
     "metadata": {},
     "output_type": "display_data"
    },
    {
     "name": "stdout",
     "output_type": "stream",
     "text": [
      "Validation NSE: 0.45\n"
     ]
    },
    {
     "data": {
      "application/vnd.jupyter.widget-view+json": {
       "model_id": "d98bd4b98f974503a47f589c7b7671d8",
       "version_major": 2,
       "version_minor": 0
      },
      "text/plain": [
       "  0%|          | 0/20 [00:00<?, ?it/s]"
      ]
     },
     "metadata": {},
     "output_type": "display_data"
    },
    {
     "name": "stdout",
     "output_type": "stream",
     "text": [
      "Validation NSE: 0.51\n"
     ]
    },
    {
     "data": {
      "application/vnd.jupyter.widget-view+json": {
       "model_id": "27e5fd63b64c4d1f85a9052f447b81ca",
       "version_major": 2,
       "version_minor": 0
      },
      "text/plain": [
       "  0%|          | 0/20 [00:00<?, ?it/s]"
      ]
     },
     "metadata": {},
     "output_type": "display_data"
    },
    {
     "name": "stdout",
     "output_type": "stream",
     "text": [
      "Validation NSE: 0.54\n"
     ]
    },
    {
     "data": {
      "application/vnd.jupyter.widget-view+json": {
       "model_id": "af18f3ca949f44e7a6441b374aac307e",
       "version_major": 2,
       "version_minor": 0
      },
      "text/plain": [
       "  0%|          | 0/20 [00:00<?, ?it/s]"
      ]
     },
     "metadata": {},
     "output_type": "display_data"
    },
    {
     "name": "stdout",
     "output_type": "stream",
     "text": [
      "Validation NSE: 0.55\n"
     ]
    },
    {
     "data": {
      "application/vnd.jupyter.widget-view+json": {
       "model_id": "1ecf7256f33041e99a0b7d72c512c852",
       "version_major": 2,
       "version_minor": 0
      },
      "text/plain": [
       "  0%|          | 0/20 [00:00<?, ?it/s]"
      ]
     },
     "metadata": {},
     "output_type": "display_data"
    },
    {
     "name": "stdout",
     "output_type": "stream",
     "text": [
      "Validation NSE: 0.57\n"
     ]
    },
    {
     "data": {
      "application/vnd.jupyter.widget-view+json": {
       "model_id": "f3e6e6025f3740c3b4751983b485cee8",
       "version_major": 2,
       "version_minor": 0
      },
      "text/plain": [
       "  0%|          | 0/20 [00:00<?, ?it/s]"
      ]
     },
     "metadata": {},
     "output_type": "display_data"
    },
    {
     "name": "stdout",
     "output_type": "stream",
     "text": [
      "Validation NSE: 0.57\n"
     ]
    },
    {
     "data": {
      "application/vnd.jupyter.widget-view+json": {
       "model_id": "40ca67329d754d6bae8e0b4ebcab454b",
       "version_major": 2,
       "version_minor": 0
      },
      "text/plain": [
       "  0%|          | 0/20 [00:00<?, ?it/s]"
      ]
     },
     "metadata": {},
     "output_type": "display_data"
    },
    {
     "name": "stdout",
     "output_type": "stream",
     "text": [
      "Validation NSE: 0.58\n"
     ]
    },
    {
     "data": {
      "application/vnd.jupyter.widget-view+json": {
       "model_id": "4af7c6e58f944a968ff73a87ae640bfd",
       "version_major": 2,
       "version_minor": 0
      },
      "text/plain": [
       "  0%|          | 0/20 [00:00<?, ?it/s]"
      ]
     },
     "metadata": {},
     "output_type": "display_data"
    },
    {
     "name": "stdout",
     "output_type": "stream",
     "text": [
      "Validation NSE: 0.59\n"
     ]
    },
    {
     "data": {
      "application/vnd.jupyter.widget-view+json": {
       "model_id": "8f3c0d6931744b72ae805f09cb31e41c",
       "version_major": 2,
       "version_minor": 0
      },
      "text/plain": [
       "  0%|          | 0/20 [00:00<?, ?it/s]"
      ]
     },
     "metadata": {},
     "output_type": "display_data"
    },
    {
     "name": "stdout",
     "output_type": "stream",
     "text": [
      "Validation NSE: 0.61\n"
     ]
    },
    {
     "data": {
      "application/vnd.jupyter.widget-view+json": {
       "model_id": "1a34e321f9a348e7ae792b525e94d60c",
       "version_major": 2,
       "version_minor": 0
      },
      "text/plain": [
       "  0%|          | 0/20 [00:00<?, ?it/s]"
      ]
     },
     "metadata": {},
     "output_type": "display_data"
    },
    {
     "name": "stdout",
     "output_type": "stream",
     "text": [
      "Validation NSE: 0.62\n"
     ]
    },
    {
     "data": {
      "application/vnd.jupyter.widget-view+json": {
       "model_id": "ca0ff22b03d94d4a855f5dff1cb82258",
       "version_major": 2,
       "version_minor": 0
      },
      "text/plain": [
       "  0%|          | 0/20 [00:00<?, ?it/s]"
      ]
     },
     "metadata": {},
     "output_type": "display_data"
    },
    {
     "name": "stdout",
     "output_type": "stream",
     "text": [
      "Validation NSE: 0.62\n"
     ]
    },
    {
     "data": {
      "application/vnd.jupyter.widget-view+json": {
       "model_id": "0f2af9b1e1614bdebabe5c70fbaea1f0",
       "version_major": 2,
       "version_minor": 0
      },
      "text/plain": [
       "  0%|          | 0/20 [00:00<?, ?it/s]"
      ]
     },
     "metadata": {},
     "output_type": "display_data"
    },
    {
     "name": "stdout",
     "output_type": "stream",
     "text": [
      "Validation NSE: 0.62\n"
     ]
    },
    {
     "data": {
      "application/vnd.jupyter.widget-view+json": {
       "model_id": "a495bb9652c14d158c6d5ba11411b738",
       "version_major": 2,
       "version_minor": 0
      },
      "text/plain": [
       "  0%|          | 0/20 [00:00<?, ?it/s]"
      ]
     },
     "metadata": {},
     "output_type": "display_data"
    },
    {
     "name": "stdout",
     "output_type": "stream",
     "text": [
      "Validation NSE: 0.63\n"
     ]
    },
    {
     "data": {
      "application/vnd.jupyter.widget-view+json": {
       "model_id": "4135af87a0a84570a00429eddd0a139e",
       "version_major": 2,
       "version_minor": 0
      },
      "text/plain": [
       "  0%|          | 0/20 [00:00<?, ?it/s]"
      ]
     },
     "metadata": {},
     "output_type": "display_data"
    },
    {
     "name": "stdout",
     "output_type": "stream",
     "text": [
      "Validation NSE: 0.65\n"
     ]
    }
   ],
   "source": [
    "n_epochs = 20 # Number of training epochs\n",
    "\n",
    "for i in range(n_epochs):\n",
    "    train_epoch(model, optimizer, tr_loader, loss_func, i+1)\n",
    "    obs, preds = eval_model(model, val_loader)\n",
    "    preds = ds_val.local_rescale(preds.numpy(), variable='output')\n",
    "    nse = calc_nse(obs.numpy(), preds)\n",
    "    tqdm.tqdm.write(f\"Validation NSE: {nse:.2f}\")"
   ]
  },
  {
   "cell_type": "code",
   "execution_count": 129,
   "id": "7e480d0a",
   "metadata": {},
   "outputs": [
    {
     "data": {
      "image/png": "[encoded data removed]",
      "text/plain": [
       "<Figure size 1200x400 with 1 Axes>"
      ]
     },
     "metadata": {},
     "output_type": "display_data"
    }
   ],
   "source": [
    "# Evaluate on test set\n",
    "obs, preds = eval_model(model, test_loader)\n",
    "preds = ds_val.local_rescale(preds.numpy(), variable='output')\n",
    "obs = obs.numpy()\n",
    "nse = calc_nse(obs, preds)\n",
    "\n",
    "# Plot results\n",
    "start_date = ds_test.dates[0]\n",
    "end_date = ds_test.dates[1] + pd.DateOffset(days=1)\n",
    "date_range = pd.date_range(start_date, end_date)\n",
    "fig, ax = plt.subplots(figsize=(12, 4))\n",
    "ax.plot(date_range, obs, label=\"observation\")\n",
    "ax.plot(date_range, preds, label=\"prediction\")\n",
    "ax.legend()\n",
    "ax.set_title(f\"Basin {basin} - Test set NSE: {nse:.3f}\")\n",
    "ax.xaxis.set_tick_params(rotation=90)\n",
    "ax.set_xlabel(\"Date\")\n",
    "_ = ax.set_ylabel(\"Discharge (mm/d)\")"
   ]
  },
  {
   "cell_type": "markdown",
   "id": "ed211238",
   "metadata": {},
   "source": [
    "**Therefore, we can try different basin IDs present in the CAMELS dataset and apply the LSTM as well as get information**"
   ]
  },
  {
   "cell_type": "code",
   "execution_count": null,
   "id": "96887ef5",
   "metadata": {},
   "outputs": [],
   "source": []
  }
 ],
 "metadata": {
  "kernelspec": {
   "display_name": "Python 3 (ipykernel)",
   "language": "python",
   "name": "python3"
  },
  "language_info": {
   "codemirror_mode": {
    "name": "ipython",
    "version": 3
   },
   "file_extension": ".py",
   "mimetype": "text/x-python",
   "name": "python",
   "nbconvert_exporter": "python",
   "pygments_lexer": "ipython3",
   "version": "3.11.3"
  }
 },
 "nbformat": 4,
 "nbformat_minor": 5
}
